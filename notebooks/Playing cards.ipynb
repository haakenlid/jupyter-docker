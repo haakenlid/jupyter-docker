{
 "cells": [
  {
   "cell_type": "code",
   "execution_count": 18,
   "metadata": {
    "collapsed": false,
    "deletable": true,
    "editable": true
   },
   "outputs": [
    {
     "name": "stdout",
     "output_type": "stream",
     "text": [
      "how many cards? 1\n",
      "♥5\n",
      "how many cards? 2\n",
      "♥6, ♣2\n",
      "how many cards? 3\n",
      "♠7, ♥4, ♣Q\n",
      "how many cards? 3\n",
      "♥9, ♦Q, ♠A\n",
      "how many cards? 3\n",
      "♠8, ♦3, ♥A\n",
      "how many cards? 4\n",
      "♣5, ♥Q, ♣9, ♦10\n",
      "how many cards? 10\n",
      "♦K, ♣6, ♠3, ♣A, ♣10, ♥Q, ♦9, ♣K, ♠2, ♣9\n",
      "how many cards? 55\n",
      "number must be between 0 and 52!\n",
      "how many cards? 52\n",
      "♣4, ♠6, ♠5, ♥5, ♣Q, ♦Q, ♦8, ♥2, ♦4, ♠3, ♦A, ♥4, ♥9, ♦5, ♥J, ♥3, ♣10, ♣3, ♥K, ♠A, ♥6, ♦K, ♦3, ♠K, ♣6, ♣2, ♠10, ♥7, ♠2, ♦6, ♥10, ♦J, ♥8, ♣5, ♠4, ♣J, ♦2, ♣8, ♠J, ♥A, ♦7, ♠Q, ♠8, ♦10, ♦9, ♠9, ♣9, ♠7, ♥Q, ♣A, ♣7, ♣K\n",
      "how many cards? 53\n",
      "number must be between 0 and 52!\n",
      "how many cards? 22\n",
      "♣3, ♥10, ♠K, ♥9, ♥2, ♥6, ♦9, ♠3, ♥7, ♠Q, ♠7, ♦J, ♠8, ♦8, ♣8, ♥3, ♥K, ♣9, ♥J, ♣K, ♦4, ♠2\n",
      "how many cards? 21\n",
      "♥4, ♣K, ♣J, ♠J, ♠Q, ♠10, ♣Q, ♣A, ♠8, ♠7, ♣9, ♦6, ♦4, ♥K, ♦J, ♥9, ♠2, ♦8, ♥8, ♠K, ♠4\n",
      "how many cards? 2\n",
      "♠10, ♥2\n",
      "how many cards? 0\n",
      "good bye\n"
     ]
    }
   ],
   "source": [
    "import random\n",
    "suits = '♠♥♦♣'\n",
    "values = 'A 2 3 4 5 6 7 8 9 10 J Q K'.split()\n",
    "\n",
    "deck = [f'{suit}{value}' for suit in suits for value in values]\n",
    "\n",
    "def ask_for_number(maximum):\n",
    "    while True:\n",
    "        try:\n",
    "            number = int(input('how many cards? '))\n",
    "            if 0 <= number <= maximum:\n",
    "                return number\n",
    "        except ValueError:\n",
    "            pass\n",
    "        print(f'number must be between 0 and {maximum}!')\n",
    "        \n",
    "            \n",
    "def draw_a_card(deck):\n",
    "    random.shuffle(deck)\n",
    "    number = ask_for_number(len(deck))\n",
    "    return deck[:number]\n",
    "   \n",
    "\n",
    "while True:\n",
    "    draw = draw_a_card(deck)\n",
    "    if not draw:\n",
    "        print('good bye')\n",
    "        break\n",
    "    print(', '.join(draw))\n",
    "\n",
    "\n",
    "\n"
   ]
  },
  {
   "cell_type": "code",
   "execution_count": 62,
   "metadata": {
    "collapsed": false,
    "deletable": true,
    "editable": true
   },
   "outputs": [
    {
     "name": "stdout",
     "output_type": "stream",
     "text": [
      "52\n",
      "🃛🂶🃗🂾🂽🂢🃋🂴🃘🂮🂸🃉🃂🃈🃙🂳🃄🃁🃎🃃🂩🂥🃖🃍🂺🂪🃓🂧🂻🃞🃆🂵🂱🃇🂭🃔🃚🂲🂦🃊🃝🃕🂷🂣🃒🃑🂤🂹🂫🃅🂨🂡\n",
      "🂡🂢🂣🂤🂥🂦🂧🂨🂩🂪🂫🂭🂮🂱🂲🂳🂴🂵🂶🂷🂸🂹🂺🂻🂽🂾🃁🃂🃃🃄🃅🃆🃇🃈🃉🃊🃋🃍🃎🃑🃒🃓🃔🃕🃖🃗🃘🃙🃚🃛🃝🃞\n",
      "🂠\n"
     ]
    }
   ],
   "source": [
    "start = 0x1F0A0\n",
    "back = chr(start)\n",
    "values = [1, 2, 3, 4, 5, 6, 7, 8, 9, 10, 11, 13, 14]\n",
    "suits = [suit * 16 for suit in range(4)]\n",
    "cards = [chr(start+suit+v) for suit in suits for v in values]\n",
    "\n",
    "print(len(cards))\n",
    "random.shuffle(cards)\n",
    "print(''.join(cards))\n",
    "cards.sort()\n",
    "print(''.join(cards))\n",
    "print(back)\n"
   ]
  },
  {
   "cell_type": "code",
   "execution_count": 34,
   "metadata": {
    "collapsed": false
   },
   "outputs": [
    {
     "data": {
      "text/plain": [
       "56"
      ]
     },
     "execution_count": 34,
     "metadata": {},
     "output_type": "execute_result"
    }
   ],
   "source": [
    "len(cards)"
   ]
  },
  {
   "cell_type": "code",
   "execution_count": null,
   "metadata": {
    "collapsed": true
   },
   "outputs": [],
   "source": []
  }
 ],
 "metadata": {
  "kernelspec": {
   "display_name": "Python 3",
   "language": "python",
   "name": "python3"
  },
  "language_info": {
   "codemirror_mode": {
    "name": "ipython",
    "version": 3
   },
   "file_extension": ".py",
   "mimetype": "text/x-python",
   "name": "python",
   "nbconvert_exporter": "python",
   "pygments_lexer": "ipython3",
   "version": "3.6.0"
  }
 },
 "nbformat": 4,
 "nbformat_minor": 2
}
